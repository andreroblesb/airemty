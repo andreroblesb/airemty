{
 "cells": [
  {
   "cell_type": "code",
   "execution_count": 2,
   "id": "71355576",
   "metadata": {},
   "outputs": [
    {
     "name": "stdout",
     "output_type": "stream",
     "text": [
      "    Municipio                                          Categoría       SO2\n",
      "0     Abasolo                                      Agropecuarias      0.00\n",
      "1     Abasolo  Almacenamiento y transporte de derivados de pe...      0.00\n",
      "2     Abasolo                                         Carreteras      0.06\n",
      "3     Abasolo                               Emisiones biogénicas      0.00\n",
      "4     Abasolo         Fuentes industriales ligeras y comerciales      0.00\n",
      "..        ...                                                ...       ...\n",
      "324  Santiago                                 Manejo de Residuos      0.00\n",
      "325  Santiago                                      No carreteras      0.03\n",
      "326  Santiago     Quema de combustibles en fuentes estacionarias      0.13\n",
      "327  Santiago                                   Uso de Solventes      0.00\n",
      "328       NaN                                                NaN  16602.49\n",
      "\n",
      "[329 rows x 3 columns]\n"
     ]
    }
   ],
   "source": [
    "import pandas as pd\n",
    "\n",
    "# --- 1. Cargar el CSV ---\n",
    "# Si tienes el archivo local, reemplaza la siguiente línea por:\n",
    "df = pd.read_csv(\"emisiones.csv\")\n",
    "\n",
    "# --- 2. Asegurarse de que SO2 sea numérico ---\n",
    "df['SO2'] = pd.to_numeric(df['SO2'], errors='coerce')  # convierte a float, los vacíos serán NaN\n",
    "\n",
    "# --- 3. Agrupar por Municipio y Categoría ---\n",
    "resumen = df.groupby(['Municipio', 'Categoría'], dropna=False)['SO2'].sum().reset_index()\n",
    "\n",
    "# --- 4. Reemplazar NaN por 0 si quieres incluir también las filas sin datos de SO2 ---\n",
    "resumen['SO2'] = resumen['SO2'].fillna(0)\n",
    "\n",
    "# --- 5. Mostrar resultados ---\n",
    "print(resumen)\n",
    "\n",
    "# --- 6. (Opcional) Guardar como CSV ---\n",
    "resumen.to_csv('emisiones_so2_por_municipio_categoria.csv', index=False)\n"
   ]
  }
 ],
 "metadata": {
  "kernelspec": {
   "display_name": "Python 3",
   "language": "python",
   "name": "python3"
  },
  "language_info": {
   "codemirror_mode": {
    "name": "ipython",
    "version": 3
   },
   "file_extension": ".py",
   "mimetype": "text/x-python",
   "name": "python",
   "nbconvert_exporter": "python",
   "pygments_lexer": "ipython3",
   "version": "3.12.4"
  }
 },
 "nbformat": 4,
 "nbformat_minor": 5
}
